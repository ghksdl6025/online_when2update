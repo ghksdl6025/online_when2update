{
 "cells": [
  {
   "cell_type": "code",
   "execution_count": 1,
   "id": "ed78ad1f",
   "metadata": {},
   "outputs": [
    {
     "name": "stderr",
     "output_type": "stream",
     "text": [
      "c:\\python3\\lib\\site-packages\\scipy\\__init__.py:146: UserWarning: A NumPy version >=1.16.5 and <1.23.0 is required for this version of SciPy (detected version 1.26.0\n",
      "  warnings.warn(f\"A NumPy version >={np_minversion} and <{np_maxversion}\"\n"
     ]
    }
   ],
   "source": [
    "import sys\n",
    "sys.path.insert(1, '../')\n",
    "\n",
    "from river import stream,tree,metrics\n",
    "from encoding import prefix_bin\n",
    "import numpy as np\n",
    "from sklearn.metrics import classification_report, accuracy_score, f1_score, roc_auc_score\n",
    "from tqdm import tqdm\n",
    "import pickle as pkl\n",
    "import matplotlib.pyplot as plt\n",
    "import os,json\n",
    "import datetime\n",
    "from collections import deque\n",
    "from sklearn.tree import DecisionTreeClassifier\n",
    "from sklearn.ensemble import RandomForestClassifier\n",
    "import pandas as pd\n",
    "\n",
    "import warnings\n",
    "\n",
    "warnings.filterwarnings(\"ignore\")\n",
    "import xgboost as xgb\n",
    "\n",
    "import datetime, time\n",
    "import utils\n",
    "import sliding_window"
   ]
  },
  {
   "cell_type": "code",
   "execution_count": 2,
   "id": "4f755e5a",
   "metadata": {},
   "outputs": [],
   "source": [
    "def display_progress(row_counting, total_length, interval=2000):\n",
    "    if rowcounter%interval == 0:\n",
    "        print(round(rowcounter*100/totallength,2) ,'%', 'Case finished: %s'%(casecount), 'Running cases: %s'%(len(streaming_db)))"
   ]
  },
  {
   "cell_type": "code",
   "execution_count": 3,
   "id": "2b1fff3b",
   "metadata": {},
   "outputs": [],
   "source": [
    "def update_test_cases(new_case, test_cases):\n",
    "    test_cases.append(new_case)\n",
    "    if len(test_cases) > test_size:\n",
    "        test_cases.popleft()"
   ]
  },
  {
   "cell_type": "code",
   "execution_count": 4,
   "id": "34ecd134",
   "metadata": {},
   "outputs": [
    {
     "name": "stdout",
     "output_type": "stream",
     "text": [
      "{'key_pair': {'Case ID': 'caseid', 'Activity': 'activity', 'Resource': 'resource', 'Start Timestamp': 'ts'}, 'categorical_attrs': ['activity', 'resource'], 'maximum_prefix': 15}\n",
      "1\n",
      "2\n",
      "3\n",
      "4\n",
      "5\n",
      "6\n",
      "7\n",
      "8\n",
      "9\n",
      "10\n",
      "11\n",
      "12\n",
      "13\n",
      "14\n",
      "15\n"
     ]
    }
   ],
   "source": [
    "'''\n",
    "Before test and training streaming event predictive monitoring, grace period is preceded to initialize model by prefix length\n",
    "and obtain feature matrix to transform future events\n",
    "'''\n",
    "\n",
    "# Experiment settings\n",
    "dataset_label = 'bpic17'\n",
    "\n",
    "# Invoke parameters for dataset\n",
    "with open('../dataset_parameters.json','r') as json_file:\n",
    "    parameters = json.load(json_file)[dataset_label]\n",
    "    print(parameters)\n",
    "    key_pair = parameters['key_pair']\n",
    "    catatars = parameters['categorical_attrs']\n",
    "    maximum_prefixs = parameters['maximum_prefix']\n",
    "\n",
    "for maximum_prefix in range(1, maximum_prefixs+1):\n",
    "    print(maximum_prefix)\n",
    "    performance_measure_type = 'ROCAUC'\n",
    "\n",
    "    dataset_loc = '../DATA/logs/'+ dataset_label +'.csv'\n",
    "    try:\n",
    "        os.makedirs('../result/%s'%(dataset_label))\n",
    "    except:\n",
    "        pass\n",
    "\n",
    "    # Set streaming classifier\n",
    "    classifier = 'xgb'\n",
    "    if classifier == 'xgb':\n",
    "        streaming_classifier = xgb.XGBClassifier(n_estimators = 100, learning_rate=0.01, verbosity =0)\n",
    "    elif classifier == 'rf':\n",
    "        streaming_classifier = RandomForestClassifier(n_estimators = 100)\n",
    "\n",
    "    streaming_db ={}\n",
    "    training_models ={}\n",
    "    test_cases = deque()\n",
    "    feature_matrix ={}\n",
    "\n",
    "    casecount = 0\n",
    "    rowcounter = 0\n",
    "    running_case = 0\n",
    "    prediction_result = dict()\n",
    "    for i in range(1, maximum_prefix+1): prediction_result[i] = {}\n",
    "    finished_caseid = set()\n",
    "    \n",
    "    # Sliding window for training setting\n",
    "    window_size = 100\n",
    "    test_size = 30\n",
    "    training_windows = sliding_window.training_window(window_size,test_size)\n",
    "    training_models['prefix_%s'%(maximum_prefix)] = [streaming_classifier, 0]\n",
    "    \n",
    "    dataset = stream.iter_csv(\n",
    "            dataset_loc\n",
    "            )\n",
    "    totallength = len(list(dataset))\n",
    "\n",
    "\n",
    "    dataset = stream.iter_csv(\n",
    "                dataset_loc,\n",
    "                target='outcome'\n",
    "                )\n",
    "    enctype = 'Index-base'\n",
    "    \n",
    "    cdhappend ={}\n",
    "    for i in range(1, maximum_prefix+1): cdhappend[i] = 0\n",
    "\n",
    "    for x,y in dataset:\n",
    "        rowcounter +=1\n",
    "        # Event stream change dictionary keys\n",
    "        x = utils.dictkey_chg(x, key_pair)\n",
    "\n",
    "        if dataset_label !='bpic15':\n",
    "            x['ts'] = x['ts'][:-4]\n",
    "\n",
    "        x['outcome'] =y \n",
    "        # Initialize case by prefix length\n",
    "        caseid = x['caseid']\n",
    "        outcome = x['outcome']\n",
    "    #     progress = x['progress']\n",
    "\n",
    "        x.pop('caseid')\n",
    "        x.pop('outcome')\n",
    "\n",
    "    #     x.pop('progress')\n",
    "\n",
    "        case_bin = prefix_bin(caseid, x)\n",
    "        case_bin.set_enctype(enctype)\n",
    "\n",
    "        if caseid not in list(streaming_db.keys()):\n",
    "            case_bin.set_prefix_length(1)    \n",
    "            streaming_db[caseid] = []\n",
    "        elif caseid in finished_caseid:\n",
    "            pass\n",
    "        else:\n",
    "            case_bin.set_prefix_length(len(streaming_db[caseid])+1)\n",
    "            case_bin.set_prev_enc(streaming_db[caseid][-1])\n",
    "\n",
    "        # Encode event and cases and add to DB\n",
    "        case_bin.update_truelabel(outcome)   \n",
    "        case_bin.update_encoded(catattrs=catatars,enctype=enctype)\n",
    "        ts = case_bin.event['ts']\n",
    "        streaming_db[caseid].append(case_bin)\n",
    "        # Detect label appeared case \n",
    "        if outcome != '' and caseid not in finished_caseid:\n",
    "            for i in streaming_db[caseid]:\n",
    "                i.update_truelabel(outcome)\n",
    "            finished_caseid.add(caseid)\n",
    "            # Adding newly finished case to training set.    \n",
    "            casecount +=1\n",
    "            # Grace period to collect feature matrix\n",
    "            case_length = len(streaming_db[caseid])\n",
    "            if case_length >= maximum_prefix:\n",
    "                if 'prefix_%s'%(maximum_prefix) not in list(feature_matrix.keys()):\n",
    "                    feature_matrix['prefix_%s'%(maximum_prefix)]=set()\n",
    "\n",
    "                case_length = len(streaming_db[caseid])\n",
    "                if case_length >= maximum_prefix:\n",
    "                    x = streaming_db[caseid][maximum_prefix-1]\n",
    "                    training_windows.update_window(x)\n",
    "                    update_test_cases(streaming_db[caseid], test_cases)\n",
    "\n",
    "                    if training_windows.retraining_count == test_size:\n",
    "                        x_training = pd.DataFrame.from_dict([i.encoded for i in training_windows.container])\n",
    "                        for i in x_training.columns.values: x_training[i] = x_training[i].fillna(0)\n",
    "                        feature_matrix['prefix_%s'%(maximum_prefix)] = x_training.columns.values\n",
    "                        y_training = [i.true_label for i in training_windows.container]\n",
    "                        training_models['prefix_%s'%(maximum_prefix)][0].fit(x_training, y_training)\n",
    "                        training_models['prefix_%s'%(maximum_prefix)][1] +=1\n",
    "                        training_windows.reset_retraining_count()\n",
    "\n",
    "                        '''\n",
    "                        Evaluate current model with test cases\n",
    "                        '''\n",
    "                        model_update_count = training_models['prefix_%s'%(maximum_prefix)][1]\n",
    "                        prediction_result[maximum_prefix][model_update_count] = {}\n",
    "                        y_truelist = []\n",
    "                        y_predlist = []\n",
    "                        for case in test_cases:\n",
    "                            if len(case) >= maximum_prefix:\n",
    "                                x = case[maximum_prefix-1]\n",
    "                                model = training_models['prefix_%s'%(x.prefix_length)][0]\n",
    "                                current_event = utils.readjustment_training(x.encoded, feature_matrix['prefix_%s'%(maximum_prefix)])\n",
    "                                current_event = pd.Series(current_event).to_frame().T\n",
    "                                y_pred = training_models['prefix_%s'%(x.prefix_length)][0].predict_proba(current_event)\n",
    "                                y_truelist.append(x.true_label)\n",
    "                                y_predlist.append(y_pred)\n",
    "\n",
    "                        prediction_result[maximum_prefix][model_update_count]['y_true'] = y_truelist\n",
    "                        prediction_result[maximum_prefix][model_update_count]['y_pred'] = y_predlist\n",
    "                        if 'b1' not in caseid and cdhappend[maximum_prefix] == 0:\n",
    "                            cdhappend[maximum_prefix] = model_update_count\n",
    "    for evaluation_method in ['Accuracy', 'F1', 'ROCAUC']:\n",
    "        prefix = maximum_prefix\n",
    "        update_count =[]\n",
    "        evaluation_list = []\n",
    "        length_list = []\n",
    "        for update in prediction_result[prefix].keys():\n",
    "            y_true = prediction_result[prefix][update]['y_true']\n",
    "            y_pred_prob_ = prediction_result[prefix][update]['y_pred']\n",
    "            prediction_class = training_models['prefix_%s'%(maximum_prefix)][0].classes_\n",
    "            if len(prediction_class) == 1: prediction_class = ['False', 'True']\n",
    "            y_pred_prob = []\n",
    "            for i in y_pred_prob_:\n",
    "                y_pred_prob.append({prediction_class[0]: i[0][0], prediction_class[1]: i[0][1]})\n",
    "            y_pred = [max(x, key=x.get) for x in y_pred_prob]\n",
    "            update_count.append(update)\n",
    "\n",
    "            if evaluation_method =='Accuracy':\n",
    "                value = accuracy_score(y_true, y_pred)\n",
    "            elif evaluation_method =='F1':\n",
    "                value = f1_score(y_true, y_pred, average='macro')\n",
    "        #             warnings.filterwarnings(\"ignore\")\n",
    "\n",
    "            elif evaluation_method =='ROCAUC':\n",
    "                y_pred_prob = np.array([[x['False'], x['True']] for x in y_pred_prob])\n",
    "                try:\n",
    "                    value = roc_auc_score(y_true, y_pred_prob[:, 1])\n",
    "                except:\n",
    "                    value = 0\n",
    "            evaluation_list.append(value)\n",
    "        plt.figure(figsize=(15,8))\n",
    "        plt.plot(update_count, evaluation_list, label = 'Accuracy')\n",
    "        #     plt.plot(update_count, length_list)\n",
    "        if dataset_label == 'bpic15' or dataset_label == 'bpic17':\n",
    "            pass\n",
    "        else:\n",
    "            plt.axvline(cdhappend[prefix], color = 'black', linestyle ='--', label = 'Concept drift')\n",
    "        plt.title(prefix)\n",
    "        plt.xlabel('Model update count')\n",
    "        plt.legend(bbox_to_anchor=(0.65, -0.1), ncol=2)\n",
    "        plt.ylim(0,1)\n",
    "\n",
    "        if os.path.exists('../img/%s/%s/%s'%(dataset_label, classifier, 'Model updates')) == False:\n",
    "            os.makedirs('../img/%s/%s/%s'%(dataset_label, classifier, 'Model updates'))\n",
    "        if os.path.exists('../result/%s/%s/%s'%(dataset_label, classifier, 'Model updates')) == False:\n",
    "            os.makedirs('../result/%s/%s/%s'%(dataset_label, classifier, 'Model updates'))\n",
    "\n",
    "\n",
    "        with open('../result/%s/%s/Model updates/prefix_%s_%s update.pkl'%(dataset_label, classifier, prefix, evaluation_method), 'wb') as f:\n",
    "            pkl.dump(prediction_result, f)\n",
    "        plt.savefig('../img/%s/%s/Model updates/prefix_%s_%s update.png'%(dataset_label, classifier, prefix, evaluation_method), dpi=250)\n",
    "        plt.cla()\n",
    "        plt.clf()\n",
    "        plt.close()\n",
    "        "
   ]
  },
  {
   "cell_type": "code",
   "execution_count": null,
   "id": "7e9a01db",
   "metadata": {
    "scrolled": true
   },
   "outputs": [
    {
     "name": "stdout",
     "output_type": "stream",
     "text": [
      "{'key_pair': {'Case ID': 'caseid', 'Activity': 'activity', 'Resource': 'resource', 'Start Timestamp': 'ts'}, 'categorical_attrs': ['activity', 'resource'], 'maximum_prefix': 15}\n",
      "1\n"
     ]
    },
    {
     "name": "stderr",
     "output_type": "stream",
     "text": [
      "23941it [02:58, 133.84it/s] \n"
     ]
    },
    {
     "name": "stdout",
     "output_type": "stream",
     "text": [
      "2\n"
     ]
    },
    {
     "name": "stderr",
     "output_type": "stream",
     "text": [
      "23941it [02:49, 141.58it/s] \n"
     ]
    },
    {
     "name": "stdout",
     "output_type": "stream",
     "text": [
      "3\n"
     ]
    },
    {
     "name": "stderr",
     "output_type": "stream",
     "text": [
      "23941it [02:45, 144.43it/s] \n"
     ]
    },
    {
     "name": "stdout",
     "output_type": "stream",
     "text": [
      "4\n"
     ]
    },
    {
     "name": "stderr",
     "output_type": "stream",
     "text": [
      "23941it [02:48, 142.32it/s] \n"
     ]
    },
    {
     "name": "stdout",
     "output_type": "stream",
     "text": [
      "5\n"
     ]
    },
    {
     "name": "stderr",
     "output_type": "stream",
     "text": [
      "23941it [02:47, 142.61it/s] \n"
     ]
    },
    {
     "name": "stdout",
     "output_type": "stream",
     "text": [
      "6\n"
     ]
    },
    {
     "name": "stderr",
     "output_type": "stream",
     "text": [
      "23941it [02:52, 138.50it/s] \n"
     ]
    },
    {
     "name": "stdout",
     "output_type": "stream",
     "text": [
      "7\n"
     ]
    },
    {
     "name": "stderr",
     "output_type": "stream",
     "text": [
      "23941it [02:56, 135.32it/s] \n"
     ]
    },
    {
     "name": "stdout",
     "output_type": "stream",
     "text": [
      "8\n"
     ]
    },
    {
     "name": "stderr",
     "output_type": "stream",
     "text": [
      "23941it [03:03, 130.56it/s] \n"
     ]
    },
    {
     "name": "stdout",
     "output_type": "stream",
     "text": [
      "9\n"
     ]
    },
    {
     "name": "stderr",
     "output_type": "stream",
     "text": [
      "23941it [03:11, 124.97it/s] \n"
     ]
    },
    {
     "name": "stdout",
     "output_type": "stream",
     "text": [
      "10\n"
     ]
    },
    {
     "name": "stderr",
     "output_type": "stream",
     "text": [
      "23941it [03:28, 114.82it/s] \n"
     ]
    },
    {
     "name": "stdout",
     "output_type": "stream",
     "text": [
      "11\n"
     ]
    },
    {
     "name": "stderr",
     "output_type": "stream",
     "text": [
      "23941it [03:11, 125.21it/s] \n"
     ]
    },
    {
     "name": "stdout",
     "output_type": "stream",
     "text": [
      "12\n"
     ]
    },
    {
     "name": "stderr",
     "output_type": "stream",
     "text": [
      "15035it [01:02, 71.51it/s]  "
     ]
    }
   ],
   "source": [
    "'''\n",
    "Before test and training streaming event predictive monitoring, grace period is preceded to initialize model by prefix length\n",
    "and obtain feature matrix to transform future events\n",
    "'''\n",
    "\n",
    "# Experiment settings\n",
    "dataset_label = 'bpic17'\n",
    "\n",
    "# Invoke parameters for dataset\n",
    "with open('../dataset_parameters.json','r') as json_file:\n",
    "    parameters = json.load(json_file)[dataset_label]\n",
    "    print(parameters)\n",
    "    key_pair = parameters['key_pair']\n",
    "    catatars = parameters['categorical_attrs']\n",
    "    maximum_prefixs = parameters['maximum_prefix']\n",
    "\n",
    "for maximum_prefix in range(1, maximum_prefixs+1):\n",
    "    print(maximum_prefix)\n",
    "    performance_measure_type = 'Accuracy'\n",
    "\n",
    "    dataset_loc = '../DATA/logs/'+ dataset_label +'.csv'\n",
    "    try:\n",
    "        os.makedirs('../result/%s'%(dataset_label))\n",
    "    except:\n",
    "        pass\n",
    "\n",
    "    # Set streaming classifier\n",
    "    classifier = 'xgb'\n",
    "    if classifier == 'xgb':\n",
    "        streaming_classifier = xgb.XGBClassifier(n_estimators = 100, learning_rate=0.01, verbosity =0)\n",
    "\n",
    "    streaming_db ={}\n",
    "    training_models ={}\n",
    "    test_cases = deque()\n",
    "    feature_matrix ={}\n",
    "\n",
    "    casecount = 0\n",
    "    rowcounter = 0\n",
    "    running_case = 0\n",
    "    prediction_result = dict()\n",
    "    for i in range(1, maximum_prefix+1): prediction_result[i] = {}\n",
    "    finished_caseid = set()\n",
    "    \n",
    "    # Sliding window for training setting\n",
    "    window_size = 100\n",
    "    test_size = 30\n",
    "    training_windows = sliding_window.training_window(window_size,test_size)\n",
    "    training_models['prefix_%s'%(maximum_prefix)] = [streaming_classifier, 0]\n",
    "    \n",
    "    dataset = stream.iter_csv(\n",
    "            dataset_loc\n",
    "            )\n",
    "    totallength = len(list(dataset))\n",
    "\n",
    "\n",
    "    dataset = stream.iter_csv(\n",
    "                dataset_loc,\n",
    "                target='outcome'\n",
    "                )\n",
    "    enctype = 'Index-base'\n",
    "    \n",
    "    cdhappend ={}\n",
    "    for i in range(1, maximum_prefix+1): cdhappend[i] = 0\n",
    "\n",
    "    for x,y in tqdm(dataset):\n",
    "        rowcounter +=1\n",
    "        # Event stream change dictionary keys\n",
    "        x = utils.dictkey_chg(x, key_pair)\n",
    "\n",
    "        if dataset_label !='bpic15':\n",
    "            x['ts'] = x['ts'][:-4]\n",
    "\n",
    "        x['outcome'] =y \n",
    "        # Initialize case by prefix length\n",
    "        caseid = x['caseid']\n",
    "        outcome = x['outcome']\n",
    "    #     progress = x['progress']\n",
    "\n",
    "        x.pop('caseid')\n",
    "        x.pop('outcome')\n",
    "\n",
    "    #     x.pop('progress')\n",
    "\n",
    "        case_bin = prefix_bin(caseid, x)\n",
    "        case_bin.set_enctype(enctype)\n",
    "\n",
    "        if caseid not in list(streaming_db.keys()):\n",
    "            case_bin.set_prefix_length(1)    \n",
    "            streaming_db[caseid] = []\n",
    "        elif caseid in finished_caseid:\n",
    "            pass\n",
    "        else:\n",
    "            case_bin.set_prefix_length(len(streaming_db[caseid])+1)\n",
    "            case_bin.set_prev_enc(streaming_db[caseid][-1])\n",
    "\n",
    "        # Encode event and cases and add to DB\n",
    "        case_bin.update_truelabel(outcome)   \n",
    "        case_bin.update_encoded(catattrs=catatars,enctype=enctype)\n",
    "        ts = case_bin.event['ts']\n",
    "        streaming_db[caseid].append(case_bin)\n",
    "        # Detect label appeared case \n",
    "        if outcome != '' and caseid not in finished_caseid:\n",
    "            for i in streaming_db[caseid]:\n",
    "                i.update_truelabel(outcome)\n",
    "            finished_caseid.add(caseid)\n",
    "            # Adding newly finished case to training set.    \n",
    "            casecount +=1\n",
    "            # Grace period to collect feature matrix\n",
    "            case_length = len(streaming_db[caseid])\n",
    "            if case_length >= maximum_prefix:\n",
    "                if 'prefix_%s'%(maximum_prefix) not in list(feature_matrix.keys()):\n",
    "                    feature_matrix['prefix_%s'%(maximum_prefix)]=set()\n",
    "\n",
    "                case_length = len(streaming_db[caseid])\n",
    "                if case_length >= maximum_prefix:\n",
    "                    x = streaming_db[caseid][maximum_prefix-1]\n",
    "                    training_windows.update_window(x)\n",
    "                    update_test_cases(streaming_db[caseid], test_cases)\n",
    "\n",
    "                    if training_windows.retraining_count == test_size:\n",
    "                        x_training = pd.DataFrame.from_dict([i.encoded for i in training_windows.container])\n",
    "                        for i in x_training.columns.values: x_training[i] = x_training[i].fillna(0)\n",
    "                        feature_matrix['prefix_%s'%(maximum_prefix)] = x_training.columns.values\n",
    "                        y_training = [i.true_label for i in training_windows.container]\n",
    "                        training_models['prefix_%s'%(maximum_prefix)][0].fit(x_training, y_training)\n",
    "                        training_models['prefix_%s'%(maximum_prefix)][1] +=1\n",
    "                        training_windows.reset_retraining_count()\n",
    "\n",
    "                    '''\n",
    "                    Evaluate current model with test cases\n",
    "                    '''\n",
    "                    prediction_result[maximum_prefix][casecount] = {}\n",
    "                    y_truelist = []\n",
    "                    y_predlist = []\n",
    "                    for case in test_cases:\n",
    "                        if len(case) >= maximum_prefix:\n",
    "                            x = case[maximum_prefix-1]\n",
    "                            model = training_models['prefix_%s'%(x.prefix_length)][0]\n",
    "                            current_event = utils.readjustment_training(x.encoded, feature_matrix['prefix_%s'%(maximum_prefix)])\n",
    "                            current_event = pd.Series(current_event).to_frame().T\n",
    "                            if training_models['prefix_%s'%(maximum_prefix)][1] !=0:\n",
    "                                y_pred = training_models['prefix_%s'%(x.prefix_length)][0].predict_proba(current_event)\n",
    "                                y_truelist.append(x.true_label)\n",
    "                                y_predlist.append(y_pred)\n",
    "\n",
    "                    prediction_result[maximum_prefix][casecount]['y_true'] = y_truelist\n",
    "                    prediction_result[maximum_prefix][casecount]['y_pred'] = y_predlist\n",
    "                    if 'b1' not in caseid and cdhappend[maximum_prefix] == 0:\n",
    "                        cdhappend[maximum_prefix] = casecount\n",
    "    for evaluation_method in ['Accuracy', 'F1', 'ROCAUC']:\n",
    "        prefix = maximum_prefix\n",
    "        update_count =[]\n",
    "        evaluation_list = []\n",
    "        length_list = []\n",
    "        for update in prediction_result[prefix].keys():\n",
    "            y_true = prediction_result[prefix][update]['y_true']\n",
    "            y_pred_prob_ = prediction_result[prefix][update]['y_pred']\n",
    "            prediction_class = training_models['prefix_%s'%(maximum_prefix)][0].classes_\n",
    "            if len(prediction_class) == 1: prediction_class = ['False', 'True']\n",
    "            y_pred_prob = []\n",
    "            for i in y_pred_prob_:\n",
    "                y_pred_prob.append({prediction_class[0]: i[0][0], prediction_class[1]: i[0][1]})\n",
    "            y_pred = [max(x, key=x.get) for x in y_pred_prob]\n",
    "            update_count.append(update)\n",
    "\n",
    "            if evaluation_method =='Accuracy':\n",
    "                value = accuracy_score(y_true, y_pred)\n",
    "            elif evaluation_method =='F1':\n",
    "                value = f1_score(y_true, y_pred, average='macro')\n",
    "        #             warnings.filterwarnings(\"ignore\")\n",
    "\n",
    "            elif evaluation_method =='ROCAUC':\n",
    "                y_pred_prob = np.array([[x['False'], x['True']] for x in y_pred_prob])\n",
    "                try:\n",
    "                    value = roc_auc_score(y_true, y_pred_prob[:, 1])\n",
    "                except:\n",
    "                    value = 0\n",
    "            evaluation_list.append(value)\n",
    "        plt.figure(figsize=(15,8))\n",
    "        plt.plot(update_count, evaluation_list, label = 'Accuracy')\n",
    "        #     plt.plot(update_count, length_list)\n",
    "        if dataset_label == 'bpic15' or dataset_label == 'bpic17':\n",
    "            pass\n",
    "        else:\n",
    "            plt.axvline(cdhappend[prefix], color = 'black', linestyle ='--', label = 'Concept drift')\n",
    "        plt.title(prefix)\n",
    "        plt.xlabel('Model update count')\n",
    "        plt.legend(bbox_to_anchor=(0.65, -0.1), ncol=2)\n",
    "        plt.ylim(0,1)\n",
    "\n",
    "        if os.path.exists('../img/%s/%s/%s'%(dataset_label, classifier, 'Finished cases')) == False:\n",
    "            os.makedirs('../img/%s/%s/%s'%(dataset_label, classifier, 'Finished cases'))\n",
    "        if os.path.exists('../result/%s/%s/%s'%(dataset_label, classifier, 'Finished cases')) == False:\n",
    "            os.makedirs('../result/%s/%s/%s'%(dataset_label, classifier, 'Finished cases'))\n",
    "\n",
    "\n",
    "        with open('../result/%s/%s/Finished cases/prefix_%s_%s update.pkl'%(dataset_label, classifier, prefix, evaluation_method), 'wb') as f:\n",
    "            pkl.dump(prediction_result, f)\n",
    "        plt.savefig('../img/%s/%s/Finished cases/prefix_%s_%s update.png'%(dataset_label, classifier, prefix, evaluation_method), dpi=250)\n",
    "        plt.cla()\n",
    "        plt.clf()\n",
    "        plt.close()"
   ]
  },
  {
   "cell_type": "code",
   "execution_count": 9,
   "id": "34a7861a",
   "metadata": {},
   "outputs": [
    {
     "data": {
      "text/plain": [
       "0"
      ]
     },
     "execution_count": 9,
     "metadata": {},
     "output_type": "execute_result"
    }
   ],
   "source": [
    "training_models['prefix_%s'%(x.prefix_length)][1]"
   ]
  }
 ],
 "metadata": {
  "kernelspec": {
   "display_name": "Python 3 (ipykernel)",
   "language": "python",
   "name": "python3"
  },
  "language_info": {
   "codemirror_mode": {
    "name": "ipython",
    "version": 3
   },
   "file_extension": ".py",
   "mimetype": "text/x-python",
   "name": "python",
   "nbconvert_exporter": "python",
   "pygments_lexer": "ipython3",
   "version": "3.9.4"
  }
 },
 "nbformat": 4,
 "nbformat_minor": 5
}
